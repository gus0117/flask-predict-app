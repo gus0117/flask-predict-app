{
 "cells": [
  {
   "cell_type": "code",
   "execution_count": 23,
   "id": "34e5a095",
   "metadata": {},
   "outputs": [
    {
     "name": "stdout",
     "output_type": "stream",
     "text": [
      "Requirement already satisfied: pandas in c:\\users\\enter\\anaconda3\\lib\\site-packages (2.1.4)\n",
      "Requirement already satisfied: scikit-learn in c:\\users\\enter\\anaconda3\\lib\\site-packages (1.2.2)\n",
      "Requirement already satisfied: numpy<2,>=1.23.2 in c:\\users\\enter\\anaconda3\\lib\\site-packages (from pandas) (1.26.4)\n",
      "Requirement already satisfied: python-dateutil>=2.8.2 in c:\\users\\enter\\anaconda3\\lib\\site-packages (from pandas) (2.8.2)\n",
      "Requirement already satisfied: pytz>=2020.1 in c:\\users\\enter\\anaconda3\\lib\\site-packages (from pandas) (2023.3.post1)\n",
      "Requirement already satisfied: tzdata>=2022.1 in c:\\users\\enter\\anaconda3\\lib\\site-packages (from pandas) (2023.3)\n",
      "Requirement already satisfied: scipy>=1.3.2 in c:\\users\\enter\\anaconda3\\lib\\site-packages (from scikit-learn) (1.11.4)\n",
      "Requirement already satisfied: joblib>=1.1.1 in c:\\users\\enter\\anaconda3\\lib\\site-packages (from scikit-learn) (1.2.0)\n",
      "Requirement already satisfied: threadpoolctl>=2.0.0 in c:\\users\\enter\\anaconda3\\lib\\site-packages (from scikit-learn) (2.2.0)\n",
      "Requirement already satisfied: six>=1.5 in c:\\users\\enter\\anaconda3\\lib\\site-packages (from python-dateutil>=2.8.2->pandas) (1.16.0)\n",
      "Note: you may need to restart the kernel to use updated packages.\n"
     ]
    }
   ],
   "source": [
    "pip install pandas scikit-learn"
   ]
  },
  {
   "cell_type": "code",
   "execution_count": 3,
   "id": "1f7f3610",
   "metadata": {},
   "outputs": [],
   "source": [
    "import pandas as pd\n",
    "from sklearn.model_selection import train_test_split\n",
    "from sklearn.preprocessing import OneHotEncoder\n",
    "from sklearn.metrics import mean_squared_error, r2_score\n",
    "from sklearn.linear_model import LinearRegression\n",
    "from sklearn.tree import DecisionTreeRegressor\n",
    "from sklearn.ensemble import RandomForestRegressor\n",
    "from sklearn.svm import SVR\n",
    "from sklearn.neighbors import KNeighborsRegressor"
   ]
  },
  {
   "cell_type": "code",
   "execution_count": 4,
   "id": "d81f4f6c",
   "metadata": {},
   "outputs": [
    {
     "name": "stdout",
     "output_type": "stream",
     "text": [
      "   id_provincia     provincia  id_departamento            departamento  \\\n",
      "0             6  Buenos Aires              854              25 de Mayo   \n",
      "1             6  Buenos Aires               14  Adolfo Gonzales Chaves   \n",
      "2             6  Buenos Aires               21                 Alberti   \n",
      "3             6  Buenos Aires               28         Almirante Brown   \n",
      "4             6  Buenos Aires               77               Arrecifes   \n",
      "\n",
      "   id_cultivo cultivo  id_campaña    campaña  sup_sembrada sup_cosechada  \\\n",
      "0         1.0     Ajo           1  1969/1970             3             3   \n",
      "1         1.0     Ajo           1  1969/1970            15            15   \n",
      "2         1.0     Ajo           1  1969/1970             5             5   \n",
      "3         1.0     Ajo           1  1969/1970             2             2   \n",
      "4         1.0     Ajo           1  1969/1970             6             6   \n",
      "\n",
      "  produccion  rendimiento  \n",
      "0          10        3333  \n",
      "1          82        5467  \n",
      "2           7        1400  \n",
      "3           8        4000  \n",
      "4          15        2500  \n"
     ]
    },
    {
     "name": "stderr",
     "output_type": "stream",
     "text": [
      "C:\\Users\\enter\\AppData\\Local\\Temp\\ipykernel_11540\\1330985753.py:3: DtypeWarning: Columns (9,10,11) have mixed types. Specify dtype option on import or set low_memory=False.\n",
      "  data = pd.read_csv(url,encoding='iso-8859-1',delimiter=',')\n"
     ]
    }
   ],
   "source": [
    "#url = './estimaciones-agricolas.csv'\n",
    "url = 'D:\\Ale\\est_ale\\estimaciones-agricolas.csv'\n",
    "data = pd.read_csv(url,encoding='iso-8859-1',delimiter=',')\n",
    "print(data.head())"
   ]
  },
  {
   "cell_type": "code",
   "execution_count": 5,
   "id": "eacaf0c0",
   "metadata": {},
   "outputs": [
    {
     "name": "stdout",
     "output_type": "stream",
     "text": [
      "<class 'pandas.core.frame.DataFrame'>\n",
      "RangeIndex: 153889 entries, 0 to 153888\n",
      "Data columns (total 12 columns):\n",
      " #   Column           Non-Null Count   Dtype  \n",
      "---  ------           --------------   -----  \n",
      " 0   id_provincia     153889 non-null  int64  \n",
      " 1   provincia        153889 non-null  object \n",
      " 2   id_departamento  153889 non-null  int64  \n",
      " 3   departamento     153889 non-null  object \n",
      " 4   id_cultivo       152820 non-null  float64\n",
      " 5   cultivo          153889 non-null  object \n",
      " 6   id_campaña       153889 non-null  int64  \n",
      " 7   campaña          153889 non-null  object \n",
      " 8   sup_sembrada     153889 non-null  int64  \n",
      " 9   sup_cosechada    153889 non-null  object \n",
      " 10  produccion       153889 non-null  object \n",
      " 11  rendimiento      153889 non-null  object \n",
      "dtypes: float64(1), int64(4), object(7)\n",
      "memory usage: 14.1+ MB\n"
     ]
    }
   ],
   "source": [
    "data.info()"
   ]
  },
  {
   "cell_type": "code",
   "execution_count": 6,
   "id": "f8c10c46",
   "metadata": {},
   "outputs": [],
   "source": [
    "data.rename(columns={\n",
    "    'id_campaña': 'id_campania'\n",
    "}, inplace=True)\n",
    "\n"
   ]
  },
  {
   "cell_type": "code",
   "execution_count": 7,
   "id": "8da5a364",
   "metadata": {},
   "outputs": [],
   "source": [
    "df = data.drop(columns=['id_provincia', 'id_departamento','departamento','id_cultivo','campaña'])\n",
    "\n",
    "df.to_csv('estimaciones_mod.csv', index=False)"
   ]
  },
  {
   "cell_type": "code",
   "execution_count": 8,
   "id": "ba273b4d",
   "metadata": {},
   "outputs": [
    {
     "name": "stdout",
     "output_type": "stream",
     "text": [
      "      provincia cultivo  id_campania  sup_sembrada sup_cosechada produccion   \\\n",
      "0  Buenos Aires     Ajo            1             3             3          10   \n",
      "1  Buenos Aires     Ajo            1            15            15          82   \n",
      "2  Buenos Aires     Ajo            1             5             5           7   \n",
      "3  Buenos Aires     Ajo            1             2             2           8   \n",
      "4  Buenos Aires     Ajo            1             6             6          15   \n",
      "\n",
      "  rendimiento  \n",
      "0        3333  \n",
      "1        5467  \n",
      "2        1400  \n",
      "3        4000  \n",
      "4        2500  \n"
     ]
    },
    {
     "name": "stderr",
     "output_type": "stream",
     "text": [
      "C:\\Users\\enter\\AppData\\Local\\Temp\\ipykernel_11540\\3739085770.py:1: DtypeWarning: Columns (4,5,6) have mixed types. Specify dtype option on import or set low_memory=False.\n",
      "  data = pd.read_csv('estimaciones_mod.csv',encoding='iso-8859-1',delimiter=',')\n"
     ]
    }
   ],
   "source": [
    "data = pd.read_csv('estimaciones_mod.csv',encoding='iso-8859-1',delimiter=',')\n",
    "print(data.head())"
   ]
  },
  {
   "cell_type": "code",
   "execution_count": 9,
   "id": "91f07217",
   "metadata": {},
   "outputs": [
    {
     "name": "stdout",
     "output_type": "stream",
     "text": [
      "           provincia      cultivo  id_campania  sup_sembrada sup_cosechada  \\\n",
      "0       Buenos Aires          Ajo            1             3             3   \n",
      "1       Buenos Aires          Ajo            1            15            15   \n",
      "2       Buenos Aires          Ajo            1             5             5   \n",
      "3       Buenos Aires          Ajo            1             2             2   \n",
      "4       Buenos Aires          Ajo            1             6             6   \n",
      "...              ...          ...          ...           ...           ...   \n",
      "153884       Tucuman  Trigo total           53         11880         10440   \n",
      "153885       Tucuman  Trigo total           53         15300         14325   \n",
      "153886       Tucuman  Trigo total           53           300           300   \n",
      "153887       Tucuman  Trigo total           53           200           200   \n",
      "153888       Tucuman  Trigo total           53           150           150   \n",
      "\n",
      "        prod rendimiento  \n",
      "0         10        3333  \n",
      "1         82        5467  \n",
      "2          7        1400  \n",
      "3          8        4000  \n",
      "4         15        2500  \n",
      "...      ...         ...  \n",
      "153884  7308         700  \n",
      "153885  8595         600  \n",
      "153886   330        1100  \n",
      "153887   200        1000  \n",
      "153888   135         900  \n",
      "\n",
      "[153889 rows x 7 columns]\n"
     ]
    }
   ],
   "source": [
    "columnas_renombradas = {data.columns[5]: 'prod'}\n",
    "\n",
    "# Renombrar la columna utilizando `rename`\n",
    "data = data.rename(columns=columnas_renombradas)\n",
    "print(data)"
   ]
  },
  {
   "cell_type": "code",
   "execution_count": 10,
   "id": "11e88328",
   "metadata": {},
   "outputs": [
    {
     "name": "stdout",
     "output_type": "stream",
     "text": [
      "provincia        object\n",
      "cultivo          object\n",
      "id_campania       int64\n",
      "sup_sembrada      int64\n",
      "sup_cosechada    object\n",
      "prod             object\n",
      "rendimiento      object\n",
      "dtype: object\n"
     ]
    }
   ],
   "source": [
    "print(data.dtypes)"
   ]
  },
  {
   "cell_type": "code",
   "execution_count": 11,
   "id": "fd1ba349",
   "metadata": {},
   "outputs": [
    {
     "name": "stdout",
     "output_type": "stream",
     "text": [
      "Tipos de datos después de la conversión:\n",
      " provincia        object\n",
      "cultivo          object\n",
      "id_campania       int64\n",
      "sup_sembrada      int64\n",
      "sup_cosechada     int64\n",
      "prod              int64\n",
      "rendimiento       int64\n",
      "dtype: object\n"
     ]
    }
   ],
   "source": [
    "columnas_a_convertir = ['sup_cosechada', 'rendimiento','prod']\n",
    "# Eliminar o reemplazar valores no convertibles en cada columna seleccionada\n",
    "for col in columnas_a_convertir:\n",
    "    data[col] = pd.to_numeric(data[col], errors='coerce')  # Convertir a números, NaN si no convertible\n",
    "\n",
    "# Eliminar filas con NaN resultantes de conversiones fallidas (opcional)\n",
    "data = data.dropna(subset=columnas_a_convertir)\n",
    "\n",
    "# Convertir las columnas a int64\n",
    "for col in columnas_a_convertir:\n",
    "    data[col] = data[col].astype('int64')\n",
    "\n",
    "        \n",
    "# Verificar los tipos de datos después de la conversión\n",
    "print(\"Tipos de datos después de la conversión:\\n\", data.dtypes)"
   ]
  },
  {
   "cell_type": "code",
   "execution_count": 12,
   "id": "41261171",
   "metadata": {},
   "outputs": [
    {
     "data": {
      "text/plain": [
       "8724"
      ]
     },
     "execution_count": 12,
     "metadata": {},
     "output_type": "execute_result"
    }
   ],
   "source": [
    "data.duplicated().sum()"
   ]
  },
  {
   "cell_type": "code",
   "execution_count": 13,
   "id": "92b2ada8",
   "metadata": {},
   "outputs": [
    {
     "data": {
      "image/png": "[encoded data removed]",
      "text/plain": [
       "<Figure size 1500x2000 with 1 Axes>"
      ]
     },
     "metadata": {},
     "output_type": "display_data"
    }
   ],
   "source": [
    "import matplotlib.pyplot as plt\n",
    "import seaborn as sns\n",
    "plt.figure(figsize=(15,20))\n",
    "sns.countplot(y=data['cultivo'])\n",
    "plt.show()"
   ]
  },
  {
   "cell_type": "code",
   "execution_count": 14,
   "id": "be5a5285",
   "metadata": {},
   "outputs": [],
   "source": [
    "col = ['provincia', 'cultivo','id_campania', 'sup_sembrada', 'sup_cosechada', 'prod', 'rendimiento']\n",
    "data = data[col]\n",
    "X = data.iloc[:, :-1]\n",
    "y = data.iloc[:, -1]"
   ]
  },
  {
   "cell_type": "code",
   "execution_count": 15,
   "id": "ca49df1f",
   "metadata": {},
   "outputs": [],
   "source": [
    "X_train, X_test, y_train, y_test = train_test_split(X, y, train_size=0.8, random_state=0, shuffle=True)"
   ]
  },
  {
   "cell_type": "code",
   "execution_count": 16,
   "id": "283a9bf4",
   "metadata": {},
   "outputs": [],
   "source": [
    "from sklearn.compose import ColumnTransformer\n",
    "from sklearn.preprocessing import StandardScaler\n",
    "ohe = OneHotEncoder(drop='first')\n",
    "scale = StandardScaler()\n",
    "\n",
    "preprocesser = ColumnTransformer(\n",
    "        transformers = [\n",
    "            ('OHE', ohe, [0, 1]),\n",
    "            ('StandardScale', scale, [2,3,4, 5]),\n",
    "        ],\n",
    "        remainder='passthrough'\n",
    ")"
   ]
  },
  {
   "cell_type": "code",
   "execution_count": 17,
   "id": "78dafb2d",
   "metadata": {},
   "outputs": [],
   "source": [
    "X_train_dummy = preprocesser.fit_transform(X_train)\n",
    "X_test_dummy = preprocesser.transform(X_test)"
   ]
  },
  {
   "cell_type": "code",
   "execution_count": 18,
   "id": "0b784fcb",
   "metadata": {},
   "outputs": [
    {
     "data": {
      "text/plain": [
       "array(['OHE__provincia_Catamarca', 'OHE__provincia_Chaco',\n",
       "       'OHE__provincia_Chubut', 'OHE__provincia_Cordoba',\n",
       "       'OHE__provincia_Corrientes', 'OHE__provincia_Entre Rios',\n",
       "       'OHE__provincia_Formosa', 'OHE__provincia_Jujuy',\n",
       "       'OHE__provincia_La Pampa', 'OHE__provincia_La Rioja',\n",
       "       'OHE__provincia_Mendoza', 'OHE__provincia_Misiones',\n",
       "       'OHE__provincia_Neuquen', 'OHE__provincia_Rio Negro',\n",
       "       'OHE__provincia_Salta', 'OHE__provincia_San Juan',\n",
       "       'OHE__provincia_San Luis', 'OHE__provincia_Santa Cruz',\n",
       "       'OHE__provincia_Santa Fe', 'OHE__provincia_Santiago del Estero',\n",
       "       'OHE__provincia_Tierra del Fuego', 'OHE__provincia_Tucuman',\n",
       "       'OHE__cultivo_AlgodÃ³n', 'OHE__cultivo_Alpiste',\n",
       "       'OHE__cultivo_Arroz', 'OHE__cultivo_Arveja', 'OHE__cultivo_Avena',\n",
       "       'OHE__cultivo_Banana', 'OHE__cultivo_CaÃ±a de azÃºcar',\n",
       "       'OHE__cultivo_Cebada cervecera', 'OHE__cultivo_Cebada forrajera',\n",
       "       'OHE__cultivo_Cebada total', 'OHE__cultivo_Cebolla total',\n",
       "       'OHE__cultivo_Centeno', 'OHE__cultivo_Colza',\n",
       "       'OHE__cultivo_CÃ¡rtamo', 'OHE__cultivo_Garbanzo',\n",
       "       'OHE__cultivo_Girasol', 'OHE__cultivo_Jojoba',\n",
       "       'OHE__cultivo_Lenteja', 'OHE__cultivo_LimÃ³n', 'OHE__cultivo_Lino',\n",
       "       'OHE__cultivo_Mandarina', 'OHE__cultivo_ManÃ\\xad',\n",
       "       'OHE__cultivo_MaÃ\\xadz', 'OHE__cultivo_Mijo',\n",
       "       'OHE__cultivo_Naranja', 'OHE__cultivo_Papa total',\n",
       "       'OHE__cultivo_Pomelo', 'OHE__cultivo_Poroto alubia',\n",
       "       'OHE__cultivo_Poroto negro', 'OHE__cultivo_Poroto otros',\n",
       "       'OHE__cultivo_Poroto seco', 'OHE__cultivo_Poroto total',\n",
       "       'OHE__cultivo_Soja 1ra', 'OHE__cultivo_Soja 2da',\n",
       "       'OHE__cultivo_Soja total', 'OHE__cultivo_Sorgo',\n",
       "       'OHE__cultivo_Trigo candeal', 'OHE__cultivo_Trigo total',\n",
       "       'OHE__cultivo_Tung', 'OHE__cultivo_TÃ©', 'OHE__cultivo_Yerba mate',\n",
       "       'StandardScale__id_campania', 'StandardScale__sup_sembrada',\n",
       "       'StandardScale__sup_cosechada', 'StandardScale__prod'],\n",
       "      dtype=object)"
      ]
     },
     "execution_count": 18,
     "metadata": {},
     "output_type": "execute_result"
    }
   ],
   "source": [
    "preprocesser.get_feature_names_out(col[:-1])"
   ]
  },
  {
   "cell_type": "code",
   "execution_count": 19,
   "id": "ce747dca",
   "metadata": {},
   "outputs": [
    {
     "name": "stdout",
     "output_type": "stream",
     "text": [
      "lr : mae : 1601.2002517045808 score : 0.6075012166589528\n",
      "lss : mae : 1590.6963614088554 score : 0.6062452530657461\n",
      "Rid : mae : 1600.7227442508774 score : 0.6074713485971212\n",
      "Dtr : mae : 209.72922826969943 score : 0.9157294914785621\n"
     ]
    }
   ],
   "source": [
    "#linear regression\n",
    "from sklearn.linear_model import LinearRegression,Lasso,Ridge\n",
    "#from sklearn.neighbors import KNeighborsRegressor\n",
    "#from sklearn.tree import DecisionTreeRegressor\n",
    "from sklearn.metrics import mean_absolute_error,r2_score\n",
    "\n",
    "\n",
    "models = {\n",
    "    'lr':LinearRegression(),\n",
    "    'lss':Lasso(),\n",
    "    'Rid':Ridge(),\n",
    "    'Dtr':DecisionTreeRegressor()\n",
    "}\n",
    "for name, md in models.items():\n",
    "    md.fit(X_train_dummy,y_train)\n",
    "    y_pred = md.predict(X_test_dummy)\n",
    "    \n",
    "    print(f\"{name} : mae : {mean_absolute_error(y_test,y_pred)} score : {r2_score(y_test,y_pred)}\")"
   ]
  },
  {
   "cell_type": "code",
   "execution_count": 28,
   "id": "dad98332",
   "metadata": {},
   "outputs": [
    {
     "data": {
      "text/plain": [
       "['model_2']"
      ]
     },
     "execution_count": 28,
     "metadata": {},
     "output_type": "execute_result"
    }
   ],
   "source": [
    "import joblib\n",
    "file_name = 'model_2'\n",
    "\n",
    "\n",
    "dtr = DecisionTreeRegressor()\n",
    "dtr.fit(X_train_dummy,y_train)\n",
    "#dtr.predict(X_test_dummy)\n",
    "joblib.dump(dtr, file_name)"
   ]
  },
  {
   "cell_type": "code",
   "execution_count": 30,
   "id": "e284df06",
   "metadata": {},
   "outputs": [
    {
     "name": "stdout",
     "output_type": "stream",
     "text": [
      "  (0, 19)\t1.0\n",
      "  (0, 59)\t1.0\n",
      "  (0, 63)\t1.7919268721592008\n",
      "  (0, 64)\t0.49624713400214876\n",
      "  (0, 65)\t0.5615135128745187\n",
      "  (0, 66)\t0.09390051562724404\n",
      "[1500.]\n"
     ]
    },
    {
     "name": "stderr",
     "output_type": "stream",
     "text": [
      "C:\\Users\\enter\\anaconda3\\Lib\\site-packages\\sklearn\\base.py:439: UserWarning: X does not have valid feature names, but OneHotEncoder was fitted with feature names\n",
      "  warnings.warn(\n",
      "C:\\Users\\enter\\anaconda3\\Lib\\site-packages\\sklearn\\base.py:439: UserWarning: X does not have valid feature names, but StandardScaler was fitted with feature names\n",
      "  warnings.warn(\n"
     ]
    }
   ],
   "source": [
    "import numpy as np\n",
    "\n",
    "def prediction(provincia, cultivo, id_campania, sup_sembrada, sup_cosechada, prod):\n",
    "    # Create an array of the input features\n",
    "    features = np.array([[provincia, cultivo, id_campania, sup_sembrada, sup_cosechada, prod]], dtype=object)\n",
    "\n",
    "    # Transform the features using the preprocessor\n",
    "    transformed_features = preprocesser.transform(features)\n",
    "\n",
    "    print(transformed_features)\n",
    "\n",
    "    # Make the prediction\n",
    "    predicted_yield = dtr.predict(transformed_features).reshape(1, -1)\n",
    "\n",
    "    return predicted_yield[0]\n",
    "\n",
    "\n",
    "provincia = 'Santiago del Estero'\n",
    "cultivo ='Trigo total'\n",
    "id_campania = 53\n",
    "sup_sembrada = 30000\n",
    "sup_cosechada = 30000                  \n",
    "prod = 45000\n",
    "\n",
    "result = prediction(provincia, cultivo, id_campania, sup_sembrada, sup_cosechada, prod)\n",
    "print(result)"
   ]
  },
  {
   "cell_type": "code",
   "execution_count": 22,
   "id": "4b61f8c1",
   "metadata": {},
   "outputs": [
    {
     "data": {
      "text/plain": [
       "array([1500.])"
      ]
     },
     "execution_count": 22,
     "metadata": {},
     "output_type": "execute_result"
    }
   ],
   "source": [
    "result"
   ]
  },
  {
   "cell_type": "code",
   "execution_count": 31,
   "id": "0f2ba860",
   "metadata": {},
   "outputs": [
    {
     "data": {
      "text/plain": [
       "['processor.pkl']"
      ]
     },
     "execution_count": 31,
     "metadata": {},
     "output_type": "execute_result"
    }
   ],
   "source": [
    "import joblib\n",
    "file_name = 'model_1'\n",
    "joblib.dump(dtr, file_name)\n",
    "joblib.dump(preprocesser, 'processor.pkl')"
   ]
  },
  {
   "cell_type": "code",
   "execution_count": null,
   "id": "5ceb3ff6",
   "metadata": {},
   "outputs": [],
   "source": []
  }
 ],
 "metadata": {
  "kernelspec": {
   "display_name": "Python 3 (ipykernel)",
   "language": "python",
   "name": "python3"
  },
  "language_info": {
   "codemirror_mode": {
    "name": "ipython",
    "version": 3
   },
   "file_extension": ".py",
   "mimetype": "text/x-python",
   "name": "python",
   "nbconvert_exporter": "python",
   "pygments_lexer": "ipython3",
   "version": "3.11.7"
  }
 },
 "nbformat": 4,
 "nbformat_minor": 5
}
